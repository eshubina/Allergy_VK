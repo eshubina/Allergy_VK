{
 "cells": [
  {
   "cell_type": "code",
   "execution_count": 4,
   "metadata": {
    "_cell_guid": "b1076dfc-b9ad-4769-8c92-a6c4dae69d19",
    "_uuid": "8f2839f25d086af736a60e9eeb907d3b93b6e0e5",
    "execution": {
     "iopub.execute_input": "2025-05-22T10:36:53.686188Z",
     "iopub.status.busy": "2025-05-22T10:36:53.685569Z",
     "iopub.status.idle": "2025-05-22T10:37:10.117732Z",
     "shell.execute_reply": "2025-05-22T10:37:10.116967Z",
     "shell.execute_reply.started": "2025-05-22T10:36:53.686159Z"
    }
   },
   "outputs": [
    {
     "name": "stderr",
     "output_type": "stream",
     "text": [
      "2025-05-22 10:37:03.162214: E external/local_xla/xla/stream_executor/cuda/cuda_fft.cc:477] Unable to register cuFFT factory: Attempting to register factory for plugin cuFFT when one has already been registered\n",
      "WARNING: All log messages before absl::InitializeLog() is called are written to STDERR\n",
      "E0000 00:00:1747910223.191836     780 cuda_dnn.cc:8310] Unable to register cuDNN factory: Attempting to register factory for plugin cuDNN when one has already been registered\n",
      "E0000 00:00:1747910223.200532     780 cuda_blas.cc:1418] Unable to register cuBLAS factory: Attempting to register factory for plugin cuBLAS when one has already been registered\n"
     ]
    },
    {
     "name": "stdout",
     "output_type": "stream",
     "text": [
      "/kaggle/input/allergy/project-5-at-2025-05-15-16-41-cf11f6bb.json\n",
      "/kaggle/input/allergy/dataset.csv\n"
     ]
    }
   ],
   "source": [
    "# This Python 3 environment comes with many helpful analytics libraries installed\n",
    "# It is defined by the kaggle/python Docker image: https://github.com/kaggle/docker-python\n",
    "# For example, here's several helpful packages to load\n",
    "\n",
    "import numpy as np # linear algebra\n",
    "import pandas as pd # data processing, CSV file I/O (e.g. pd.read_csv)\n",
    "\n",
    "# Input data files are available in the read-only \"../input/\" directory\n",
    "# For example, running this (by clicking run or pressing Shift+Enter) will list all files under the input directory\n",
    "\n",
    "\n",
    "import os\n",
    "import json\n",
    "import torch\n",
    "import gc\n",
    "from torch.utils.data import Dataset\n",
    "from transformers import (\n",
    "    BertTokenizerFast,\n",
    "    AutoModelForTokenClassification,\n",
    "    TrainingArguments,\n",
    "    Trainer,\n",
    "    DataCollatorForTokenClassification,\n",
    "    EarlyStoppingCallback\n",
    ")\n",
    "import shutil\n",
    "from sklearn.preprocessing import LabelEncoder\n",
    "from sklearn.model_selection import train_test_split\n",
    "from seqeval.metrics import classification_report, f1_score\n",
    "from sklearn.metrics import confusion_matrix\n",
    "from imblearn.over_sampling import RandomOverSampler\n",
    "import matplotlib.pyplot as plt\n",
    "import seaborn as sns\n",
    "from collections import defaultdict, Counter\n",
    "from spacy import displacy\n",
    "for dirname, _, filenames in os.walk('/kaggle/input'):\n",
    "    for filename in filenames:\n",
    "        print(os.path.join(dirname, filename))\n",
    "\n",
    "# Filter Warnings\n",
    "import warnings\n",
    "warnings.filterwarnings(\"ignore\")        \n",
    "\n",
    "# You can write up to 20GB to the current directory (/kaggle/working/) that gets preserved as output when you create a version using \"Save & Run All\" \n",
    "# You can also write temporary files to /kaggle/temp/, but they won't be saved outside of the current session"
   ]
  },
  {
   "cell_type": "code",
   "execution_count": 5,
   "metadata": {
    "execution": {
     "iopub.execute_input": "2025-05-22T10:37:10.121685Z",
     "iopub.status.busy": "2025-05-22T10:37:10.121215Z",
     "iopub.status.idle": "2025-05-22T10:37:10.156532Z",
     "shell.execute_reply": "2025-05-22T10:37:10.155619Z",
     "shell.execute_reply.started": "2025-05-22T10:37:10.121663Z"
    }
   },
   "outputs": [],
   "source": [
    "allergy = pd.read_csv('/kaggle/input/allergy/dataset.csv', sep=';', encoding='utf-8')"
   ]
  },
  {
   "cell_type": "code",
   "execution_count": 6,
   "metadata": {
    "execution": {
     "iopub.execute_input": "2025-05-22T10:37:10.160022Z",
     "iopub.status.busy": "2025-05-22T10:37:10.159842Z",
     "iopub.status.idle": "2025-05-22T10:37:10.172598Z",
     "shell.execute_reply": "2025-05-22T10:37:10.171817Z",
     "shell.execute_reply.started": "2025-05-22T10:37:10.160004Z"
    }
   },
   "outputs": [
    {
     "name": "stdout",
     "output_type": "stream",
     "text": [
      "<class 'pandas.core.frame.DataFrame'>\n",
      "RangeIndex: 4143 entries, 0 to 4142\n",
      "Data columns (total 2 columns):\n",
      " #   Column      Non-Null Count  Dtype \n",
      "---  ------      --------------  ----- \n",
      " 0   Unnamed: 0  4143 non-null   int64 \n",
      " 1   text        4143 non-null   object\n",
      "dtypes: int64(1), object(1)\n",
      "memory usage: 64.9+ KB\n"
     ]
    }
   ],
   "source": [
    "allergy.info()"
   ]
  },
  {
   "cell_type": "code",
   "execution_count": 7,
   "metadata": {
    "execution": {
     "iopub.execute_input": "2025-05-22T10:37:10.179017Z",
     "iopub.status.busy": "2025-05-22T10:37:10.178535Z",
     "iopub.status.idle": "2025-05-22T10:37:10.196292Z",
     "shell.execute_reply": "2025-05-22T10:37:10.195519Z",
     "shell.execute_reply.started": "2025-05-22T10:37:10.178995Z"
    }
   },
   "outputs": [
    {
     "data": {
      "text/html": [
       "<div>\n",
       "<style scoped>\n",
       "    .dataframe tbody tr th:only-of-type {\n",
       "        vertical-align: middle;\n",
       "    }\n",
       "\n",
       "    .dataframe tbody tr th {\n",
       "        vertical-align: top;\n",
       "    }\n",
       "\n",
       "    .dataframe thead th {\n",
       "        text-align: right;\n",
       "    }\n",
       "</style>\n",
       "<table border=\"1\" class=\"dataframe\">\n",
       "  <thead>\n",
       "    <tr style=\"text-align: right;\">\n",
       "      <th></th>\n",
       "      <th>Unnamed: 0</th>\n",
       "      <th>text</th>\n",
       "    </tr>\n",
       "  </thead>\n",
       "  <tbody>\n",
       "    <tr>\n",
       "      <th>0</th>\n",
       "      <td>0</td>\n",
       "      <td>Утром проснулась с отекшими глазами)))</td>\n",
       "    </tr>\n",
       "    <tr>\n",
       "      <th>1</th>\n",
       "      <td>1</td>\n",
       "      <td>Открывала окна без спандбонда, нормально, ниче...</td>\n",
       "    </tr>\n",
       "    <tr>\n",
       "      <th>2</th>\n",
       "      <td>2</td>\n",
       "      <td>Пока изменений в худшую сторону нет. Каникулы,...</td>\n",
       "    </tr>\n",
       "    <tr>\n",
       "      <th>3</th>\n",
       "      <td>3</td>\n",
       "      <td>Я сегодня еле разодрала глаза и до сих сдуться...</td>\n",
       "    </tr>\n",
       "    <tr>\n",
       "      <th>4</th>\n",
       "      <td>4</td>\n",
       "      <td>Я тоже сегодня опухшая, надутая, глаза дерет, ...</td>\n",
       "    </tr>\n",
       "    <tr>\n",
       "      <th>5</th>\n",
       "      <td>5</td>\n",
       "      <td>А интересно, ловушка завтра совсем нулевая буд...</td>\n",
       "    </tr>\n",
       "    <tr>\n",
       "      <th>6</th>\n",
       "      <td>6</td>\n",
       "      <td>Ребенок сегодня проснулся с отекшими глазами (...</td>\n",
       "    </tr>\n",
       "    <tr>\n",
       "      <th>7</th>\n",
       "      <td>7</td>\n",
       "      <td>Вышла на улицу, Одинцово мо, тяжело дышать на ...</td>\n",
       "    </tr>\n",
       "    <tr>\n",
       "      <th>8</th>\n",
       "      <td>8</td>\n",
       "      <td>Второй день нормально. Сегодня даже легче,чем ...</td>\n",
       "    </tr>\n",
       "    <tr>\n",
       "      <th>9</th>\n",
       "      <td>9</td>\n",
       "      <td>Вчера после прогулки глаза отекли , чесались ....</td>\n",
       "    </tr>\n",
       "    <tr>\n",
       "      <th>10</th>\n",
       "      <td>10</td>\n",
       "      <td>Глаза чешутся</td>\n",
       "    </tr>\n",
       "    <tr>\n",
       "      <th>11</th>\n",
       "      <td>11</td>\n",
       "      <td>Глаза  опухшие веки  и чешутся..\\nСлабость общ...</td>\n",
       "    </tr>\n",
       "    <tr>\n",
       "      <th>12</th>\n",
       "      <td>12</td>\n",
       "      <td>МО. Сходня. \\nГлаза чешутся, текут, красные. Н...</td>\n",
       "    </tr>\n",
       "    <tr>\n",
       "      <th>13</th>\n",
       "      <td>13</td>\n",
       "      <td>Третий день в Питере, вообще забыла про аллерг...</td>\n",
       "    </tr>\n",
       "    <tr>\n",
       "      <th>14</th>\n",
       "      <td>14</td>\n",
       "      <td>У ребенка сегодня отёкшие глаза и чих😔</td>\n",
       "    </tr>\n",
       "  </tbody>\n",
       "</table>\n",
       "</div>"
      ],
      "text/plain": [
       "    Unnamed: 0                                               text\n",
       "0            0             Утром проснулась с отекшими глазами)))\n",
       "1            1  Открывала окна без спандбонда, нормально, ниче...\n",
       "2            2  Пока изменений в худшую сторону нет. Каникулы,...\n",
       "3            3  Я сегодня еле разодрала глаза и до сих сдуться...\n",
       "4            4  Я тоже сегодня опухшая, надутая, глаза дерет, ...\n",
       "5            5  А интересно, ловушка завтра совсем нулевая буд...\n",
       "6            6  Ребенок сегодня проснулся с отекшими глазами (...\n",
       "7            7  Вышла на улицу, Одинцово мо, тяжело дышать на ...\n",
       "8            8  Второй день нормально. Сегодня даже легче,чем ...\n",
       "9            9  Вчера после прогулки глаза отекли , чесались ....\n",
       "10          10                                      Глаза чешутся\n",
       "11          11  Глаза  опухшие веки  и чешутся..\\nСлабость общ...\n",
       "12          12  МО. Сходня. \\nГлаза чешутся, текут, красные. Н...\n",
       "13          13  Третий день в Питере, вообще забыла про аллерг...\n",
       "14          14             У ребенка сегодня отёкшие глаза и чих😔"
      ]
     },
     "execution_count": 7,
     "metadata": {},
     "output_type": "execute_result"
    }
   ],
   "source": [
    "allergy.head(15) # Посмотрим первые 15 строк"
   ]
  },
  {
   "cell_type": "code",
   "execution_count": 8,
   "metadata": {
    "execution": {
     "iopub.execute_input": "2025-05-22T10:37:10.197805Z",
     "iopub.status.busy": "2025-05-22T10:37:10.197278Z",
     "iopub.status.idle": "2025-05-22T10:37:10.205615Z",
     "shell.execute_reply": "2025-05-22T10:37:10.205047Z",
     "shell.execute_reply.started": "2025-05-22T10:37:10.197778Z"
    }
   },
   "outputs": [],
   "source": [
    "data_l = allergy[:185] # Возьмем первые 185 строк"
   ]
  },
  {
   "cell_type": "code",
   "execution_count": 9,
   "metadata": {
    "execution": {
     "iopub.execute_input": "2025-05-22T10:37:10.206748Z",
     "iopub.status.busy": "2025-05-22T10:37:10.206526Z",
     "iopub.status.idle": "2025-05-22T10:37:10.228816Z",
     "shell.execute_reply": "2025-05-22T10:37:10.228088Z",
     "shell.execute_reply.started": "2025-05-22T10:37:10.206730Z"
    }
   },
   "outputs": [],
   "source": [
    "upload_tasks = []\n",
    "\n",
    "for _, rec in data_l.iterrows():\n",
    "    upload_tasks.append({\"text\": rec.text, \"id\": rec['Unnamed: 0']})"
   ]
  },
  {
   "cell_type": "code",
   "execution_count": 10,
   "metadata": {
    "execution": {
     "iopub.execute_input": "2025-05-22T10:37:10.229904Z",
     "iopub.status.busy": "2025-05-22T10:37:10.229647Z",
     "iopub.status.idle": "2025-05-22T10:37:10.246846Z",
     "shell.execute_reply": "2025-05-22T10:37:10.245947Z",
     "shell.execute_reply.started": "2025-05-22T10:37:10.229882Z"
    }
   },
   "outputs": [
    {
     "name": "stdout",
     "output_type": "stream",
     "text": [
      "{'text': 'Утром проснулась с отекшими глазами)))', 'id': 0}\n",
      "{'text': 'Открывала окна без спандбонда, нормально, ничего не почувствовала, кроме холода)\\nА гулять совсем неохота в такую погоду))', 'id': 1}\n",
      "{'text': 'Пока изменений в худшую сторону нет. Каникулы, с такой погодой долго не погуляем. Конечно хотелось бы старта березы и потом такую погоду, но живём с тем что имеем. Вчера достала очки для плавания, под шапку, кепку , смотрится не странно. Ребёнок с миопией ещё, очки на алиекспрессе брала с диоптриями. Южное бутово, Москва. Ребёнок на базе.', 'id': 2}\n",
      "{'text': 'Я сегодня еле разодрала глаза и до сих сдуться не могу... Воспаление , текут глаза, нос изодрала, чихи, слезы, тяжесть. Погода не помогает .', 'id': 3}\n",
      "{'text': 'Я тоже сегодня опухшая, надутая, глаза дерет, чихи, сухота кожи и горла, глаза текут, даже опатенол не берет, никсар не хочет сегодня работать. Чувствую отвратно себя. Тяжело, грузно', 'id': 4}\n",
      "{'text': 'А интересно, ловушка завтра совсем нулевая будет? Или налетит туда чего-нибудь?)', 'id': 5}\n",
      "{'text': 'Ребенок сегодня проснулся с отекшими глазами (((\\nВчера уехали за город', 'id': 6}\n",
      "{'text': 'Вышла на улицу, Одинцово мо, тяжело дышать на улице, пахнет зеленью.', 'id': 7}\n",
      "{'text': 'Второй день нормально. Сегодня даже легче,чем вчера. Вчера ещё чихала, сегодня вообще прекрасно.', 'id': 8}\n",
      "{'text': 'Вчера после прогулки глаза отекли , чесались . Ну а сегодня всё ок ✌️', 'id': 9}\n",
      "{'text': 'Глаза чешутся', 'id': 10}\n",
      "{'text': 'Глаза  опухшие веки  и чешутся..\\nСлабость общая.\\nНадеюсь завтра на улучшение...', 'id': 11}\n",
      "{'text': 'МО. Сходня. \\nГлаза чешутся, текут, красные. Нос тоже течёт и чешется. Ночью почему то все это ухудшается. Плюс появляется боль и зуд в горле. Сегодня ночью вообще жестко было ((((\\nБез базы, без всего, так как нельзя никакие таблетки. Терплю как могу.', 'id': 12}\n",
      "{'text': 'Третий день в Питере, вообще забыла про аллергию и маску! Сегодня возвращаюсь в Москву', 'id': 13}\n",
      "{'text': 'У ребенка сегодня отёкшие глаза и чих😔', 'id': 14}\n"
     ]
    }
   ],
   "source": [
    "# Пример для проверки на первых 15 строках\n",
    "for task in upload_tasks[:15]:\n",
    "    print(task)"
   ]
  },
  {
   "cell_type": "markdown",
   "metadata": {},
   "source": [
    "**Работаю в kaggle, размечу локально и после загружу json**"
   ]
  },
  {
   "cell_type": "code",
   "execution_count": 11,
   "metadata": {
    "execution": {
     "iopub.execute_input": "2025-05-22T10:37:10.248006Z",
     "iopub.status.busy": "2025-05-22T10:37:10.247745Z",
     "iopub.status.idle": "2025-05-22T10:37:10.261769Z",
     "shell.execute_reply": "2025-05-22T10:37:10.260905Z",
     "shell.execute_reply.started": "2025-05-22T10:37:10.247986Z"
    }
   },
   "outputs": [],
   "source": [
    "# Функция парсит JSON-файл с разметкой сущностей и преобразует его в список словарей\n",
    "def parse_json(file_path):\n",
    "    \"\"\"Преобразует JSON-файл в список текстов и сущностей\"\"\"\n",
    "    with open(file_path, 'r', encoding='utf-8') as f:\n",
    "        data = json.load(f)  # Загружаем весь JSON\n",
    "    \n",
    "    records = [] # Создаем список\n",
    "    for item in data:\n",
    "        text = item['data']['text']\n",
    "        entities = []\n",
    "        \n",
    "        # Извлекаем все сущности\n",
    "        for annotation in item['annotations'][0]['result']:\n",
    "            if annotation['type'] == 'labels':  # Пропускаем связи между сущностями\n",
    "                value = annotation['value']\n",
    "                entities.append({\n",
    "                    'start': value['start'], # Начальная позиция\n",
    "                    'end': value['end'], # Конечная позиция\n",
    "                    'label': value['labels'][0] # Тип сущности (например, symptom, region)\n",
    "                })\n",
    "        \n",
    "        records.append({'text': text, 'entities': entities})\n",
    "    \n",
    "    return records"
   ]
  },
  {
   "cell_type": "markdown",
   "metadata": {},
   "source": [
    "Функция преобразует текст и его сущности из JSON-файла в формат BIO (B-начало сущности, I-продолжение, O-не сущность), затем токенизирует текст и выравнивает метки с токенами, используя offset_mapping"
   ]
  },
  {
   "cell_type": "code",
   "execution_count": 12,
   "metadata": {
    "execution": {
     "iopub.execute_input": "2025-05-22T10:37:10.263533Z",
     "iopub.status.busy": "2025-05-22T10:37:10.262767Z",
     "iopub.status.idle": "2025-05-22T10:37:10.278352Z",
     "shell.execute_reply": "2025-05-22T10:37:10.277757Z",
     "shell.execute_reply.started": "2025-05-22T10:37:10.263513Z"
    }
   },
   "outputs": [],
   "source": [
    "def create_bio_labels(text, entities, tokenizer):\n",
    "    \"\"\"Преобразует текст и сущности в формат BIO (B-метка, I-метка, O)\"\"\"\n",
    "    # Инициализируем список меток равный длине текста\n",
    "    labels = ['O'] * len(text)\n",
    "    \n",
    "    # Отмечаем позиции сущностей\n",
    "    for entity in entities:\n",
    "        start = entity['start']\n",
    "        end = entity['end']\n",
    "        label = entity['label']\n",
    "        \n",
    "        # Помечаем начало и продолжение сущности\n",
    "        if start < len(labels):\n",
    "            labels[start] = f'B-{label}'\n",
    "            for i in range(start+1, end):\n",
    "                if i < len(labels):\n",
    "                    labels[i] = f'I-{label}'\n",
    "    \n",
    "    # Токенизируем текст\n",
    "    tokenized = tokenizer(text, return_offsets_mapping=True, truncation=True, padding='max_length', max_length=128)\n",
    "    tokens = tokenizer.convert_ids_to_tokens(tokenized['input_ids'])\n",
    "    offset_mapping = tokenized['offset_mapping']\n",
    "    \n",
    "    # Выравниваем метки с токенами\n",
    "    aligned_labels = []\n",
    "    for token_start, token_end in offset_mapping:\n",
    "        # Если токен внутри сущности - берем соответствующую метку\n",
    "        if token_start < len(labels):\n",
    "            aligned_labels.append(labels[token_start])\n",
    "        else:\n",
    "            aligned_labels.append('O')\n",
    "    \n",
    "    return tokenized, aligned_labels"
   ]
  },
  {
   "cell_type": "code",
   "execution_count": 13,
   "metadata": {
    "execution": {
     "iopub.execute_input": "2025-05-22T10:37:10.279567Z",
     "iopub.status.busy": "2025-05-22T10:37:10.279279Z",
     "iopub.status.idle": "2025-05-22T10:37:10.298430Z",
     "shell.execute_reply": "2025-05-22T10:37:10.297745Z",
     "shell.execute_reply.started": "2025-05-22T10:37:10.279541Z"
    }
   },
   "outputs": [],
   "source": [
    "# Функция подготавливает данные для обучения модели NER\n",
    "def prepare_dataset(data, tokenizer, label2id):\n",
    "    \"\"\"Преобразует данные в формат, подходящий для обучения\"\"\"\n",
    "    encoded_inputs = [] # токенизированные вхожные последовательности\n",
    "    encoded_labels = [] # списки меток в числовом формате для каждого текста\n",
    "    \n",
    "    for item in data:\n",
    "        # Получаем BIO-метки\n",
    "        tokenized, labels = create_bio_labels(\n",
    "            item['text'], \n",
    "            item['entities'], \n",
    "            tokenizer\n",
    "        )\n",
    "        \n",
    "        # Преобразуем метки в ID\n",
    "        label_ids = [label2id[label] for label in labels]\n",
    "        \n",
    "        encoded_inputs.append(tokenized)\n",
    "        encoded_labels.append(label_ids)\n",
    "    \n",
    "    return encoded_inputs, encoded_labels"
   ]
  },
  {
   "cell_type": "code",
   "execution_count": 14,
   "metadata": {
    "execution": {
     "iopub.execute_input": "2025-05-22T10:37:10.299631Z",
     "iopub.status.busy": "2025-05-22T10:37:10.299312Z",
     "iopub.status.idle": "2025-05-22T10:37:10.318363Z",
     "shell.execute_reply": "2025-05-22T10:37:10.317543Z",
     "shell.execute_reply.started": "2025-05-22T10:37:10.299611Z"
    }
   },
   "outputs": [],
   "source": [
    "# Класс преобразует токенизированные входы (encodings) и метки (labels) в формат, который может обрабатывать модель\n",
    "class NERDataset(Dataset):\n",
    "    # encodings : Токенизированные входы (например, input_ids, attention_mask, offset_mapping)\n",
    "    # labels : Метки в формате BIO (например, B-symptom, I-symptom, O), преобразованные в числовые ID\n",
    "    # self.encodings и self.labels : Сохраняются как атрибуты класса для последующего доступа\n",
    "    def __init__(self, encodings, labels):\n",
    "        self.encodings = encodings\n",
    "        self.labels = labels\n",
    "\n",
    "    # Возвращает количество записей в датасете\n",
    "    def __len__(self):\n",
    "        return len(self.labels)\n",
    "        \n",
    "    # Преобразование в тензоры :\n",
    "    # Каждое поле (input_ids, attention_mask, ...) преобразуется в torch.Tensor.\n",
    "    # Метки (labels) : Преобразуются в тензор и добавляются в словарь item.\n",
    "    def __getitem__(self, idx):\n",
    "        item = {key: torch.tensor(val) for key, val in self.encodings[idx].items()}\n",
    "        item['labels'] = torch.tensor(self.labels[idx])\n",
    "        return item"
   ]
  },
  {
   "cell_type": "code",
   "execution_count": 15,
   "metadata": {
    "execution": {
     "iopub.execute_input": "2025-05-22T10:37:10.319425Z",
     "iopub.status.busy": "2025-05-22T10:37:10.319154Z",
     "iopub.status.idle": "2025-05-22T10:37:10.336454Z",
     "shell.execute_reply": "2025-05-22T10:37:10.335725Z",
     "shell.execute_reply.started": "2025-05-22T10:37:10.319394Z"
    }
   },
   "outputs": [],
   "source": [
    "# JSON из Label Studio\n",
    "file_path = \"/kaggle/input/allergy/project-5-at-2025-05-15-16-41-cf11f6bb.json\""
   ]
  },
  {
   "cell_type": "code",
   "execution_count": 16,
   "metadata": {
    "execution": {
     "iopub.execute_input": "2025-05-22T10:37:10.337390Z",
     "iopub.status.busy": "2025-05-22T10:37:10.337128Z",
     "iopub.status.idle": "2025-05-22T10:37:10.369071Z",
     "shell.execute_reply": "2025-05-22T10:37:10.368326Z",
     "shell.execute_reply.started": "2025-05-22T10:37:10.337365Z"
    }
   },
   "outputs": [
    {
     "name": "stdout",
     "output_type": "stream",
     "text": [
      "1. Загрузка данных...\n",
      "Найдено записей: 143\n"
     ]
    }
   ],
   "source": [
    "# Загрузка данных\n",
    "print(\"1. Загрузка данных...\")\n",
    "raw_data = parse_json(file_path)\n",
    "print(f\"Найдено записей: {len(raw_data)}\")"
   ]
  },
  {
   "cell_type": "code",
   "execution_count": 17,
   "metadata": {
    "execution": {
     "iopub.execute_input": "2025-05-22T10:37:10.370857Z",
     "iopub.status.busy": "2025-05-22T10:37:10.369936Z",
     "iopub.status.idle": "2025-05-22T10:37:10.375477Z",
     "shell.execute_reply": "2025-05-22T10:37:10.374424Z",
     "shell.execute_reply.started": "2025-05-22T10:37:10.370826Z"
    }
   },
   "outputs": [],
   "source": [
    "# Сбор статистики\n",
    "all_labels = []\n",
    "for record in raw_data:\n",
    "    for entity in record[\"entities\"]:\n",
    "        all_labels.append(entity[\"label\"])\n",
    "\n",
    "label_counts = Counter(all_labels)"
   ]
  },
  {
   "cell_type": "code",
   "execution_count": 18,
   "metadata": {
    "execution": {
     "iopub.execute_input": "2025-05-22T10:37:10.378123Z",
     "iopub.status.busy": "2025-05-22T10:37:10.376884Z",
     "iopub.status.idle": "2025-05-22T10:37:10.540415Z",
     "shell.execute_reply": "2025-05-22T10:37:10.539550Z",
     "shell.execute_reply.started": "2025-05-22T10:37:10.378093Z"
    }
   },
   "outputs": [
    {
     "data": {
      "image/png": "[encoded data removed]",
      "text/plain": [
       "<Figure size 500x300 with 1 Axes>"
      ]
     },
     "metadata": {},
     "output_type": "display_data"
    }
   ],
   "source": [
    "# Визуализация\n",
    "plt.figure(figsize=(5, 3))\n",
    "sns.barplot(x=list(label_counts.values()), y=list(label_counts.keys()))\n",
    "plt.title(\"Распределение сущностей в датасете\")\n",
    "plt.xlabel(\"Количество\")\n",
    "plt.ylabel(\"Классы\")\n",
    "plt.show()"
   ]
  },
  {
   "cell_type": "code",
   "execution_count": 19,
   "metadata": {
    "execution": {
     "iopub.execute_input": "2025-05-22T10:37:10.541744Z",
     "iopub.status.busy": "2025-05-22T10:37:10.541395Z",
     "iopub.status.idle": "2025-05-22T10:37:10.548225Z",
     "shell.execute_reply": "2025-05-22T10:37:10.547401Z",
     "shell.execute_reply.started": "2025-05-22T10:37:10.541712Z"
    }
   },
   "outputs": [
    {
     "name": "stdout",
     "output_type": "stream",
     "text": [
      "\n",
      "2. Создание словаря меток...\n",
      "Доступные метки: ['O', 'B-allergen', 'I-allergen', 'B-medication', 'I-medication', 'B-region', 'I-region', 'B-symptom', 'I-symptom']\n",
      "label2id: {'O': 0, 'B-allergen': 1, 'I-allergen': 2, 'B-medication': 3, 'I-medication': 4, 'B-region': 5, 'I-region': 6, 'B-symptom': 7, 'I-symptom': 8}\n"
     ]
    }
   ],
   "source": [
    "# Создание словаря меток\n",
    "print(\"\\n2. Создание словаря меток...\")\n",
    "unique_labels = set()\n",
    "for item in raw_data:\n",
    "    for entity in item['entities']:\n",
    "        unique_labels.add(entity['label'])\n",
    "\n",
    "# Генерируем все возможные метки в формате BIO\n",
    "bio_labels = [\"O\"]\n",
    "for label in sorted(unique_labels):\n",
    "    bio_labels.append(f\"B-{label}\")\n",
    "    bio_labels.append(f\"I-{label}\")\n",
    "\n",
    "# Создаем словари\n",
    "label2id = {label: i for i, label in enumerate(bio_labels)}\n",
    "id2label = {i: label for label, i in label2id.items()}\n",
    "\n",
    "print(\"Доступные метки:\", bio_labels)\n",
    "print(\"label2id:\", label2id)"
   ]
  },
  {
   "cell_type": "code",
   "execution_count": 20,
   "metadata": {
    "execution": {
     "iopub.execute_input": "2025-05-22T10:37:10.549489Z",
     "iopub.status.busy": "2025-05-22T10:37:10.549151Z",
     "iopub.status.idle": "2025-05-22T10:37:10.991569Z",
     "shell.execute_reply": "2025-05-22T10:37:10.990709Z",
     "shell.execute_reply.started": "2025-05-22T10:37:10.549468Z"
    }
   },
   "outputs": [
    {
     "name": "stdout",
     "output_type": "stream",
     "text": [
      "\n",
      "3. Загрузка токенизатора...\n"
     ]
    }
   ],
   "source": [
    "# Загрузка токенизатора\n",
    "print(\"\\n3. Загрузка токенизатора...\")\n",
    "tokenizer = BertTokenizerFast.from_pretrained(\"DeepPavlov/rubert-base-cased\")"
   ]
  },
  {
   "cell_type": "code",
   "execution_count": 21,
   "metadata": {
    "execution": {
     "iopub.execute_input": "2025-05-22T10:37:10.992931Z",
     "iopub.status.busy": "2025-05-22T10:37:10.992617Z",
     "iopub.status.idle": "2025-05-22T10:37:11.044414Z",
     "shell.execute_reply": "2025-05-22T10:37:11.043627Z",
     "shell.execute_reply.started": "2025-05-22T10:37:10.992904Z"
    }
   },
   "outputs": [
    {
     "name": "stdout",
     "output_type": "stream",
     "text": [
      "\n",
      "4. Подготовка датасета...\n"
     ]
    }
   ],
   "source": [
    "# Подготовка датасета\n",
    "print(\"\\n4. Подготовка датасета...\")\n",
    "inputs, labels_list = prepare_dataset(raw_data, tokenizer, label2id)"
   ]
  },
  {
   "cell_type": "code",
   "execution_count": 22,
   "metadata": {
    "execution": {
     "iopub.execute_input": "2025-05-22T10:37:11.045587Z",
     "iopub.status.busy": "2025-05-22T10:37:11.045267Z",
     "iopub.status.idle": "2025-05-22T10:37:11.052008Z",
     "shell.execute_reply": "2025-05-22T10:37:11.051039Z",
     "shell.execute_reply.started": "2025-05-22T10:37:11.045562Z"
    }
   },
   "outputs": [
    {
     "name": "stdout",
     "output_type": "stream",
     "text": [
      "\n",
      "5. Разделение на train/val/test...\n"
     ]
    }
   ],
   "source": [
    "# Разделение на train и temp (40% для val + test)\n",
    "print(\"\\n5. Разделение на train/val/test...\")\n",
    "train_inputs, temp_inputs, train_labels, temp_labels = train_test_split(\n",
    "    inputs, labels_list, test_size=0.4, random_state=42\n",
    ")"
   ]
  },
  {
   "cell_type": "code",
   "execution_count": 23,
   "metadata": {
    "execution": {
     "iopub.execute_input": "2025-05-22T10:37:11.053251Z",
     "iopub.status.busy": "2025-05-22T10:37:11.052909Z",
     "iopub.status.idle": "2025-05-22T10:37:11.067537Z",
     "shell.execute_reply": "2025-05-22T10:37:11.066611Z",
     "shell.execute_reply.started": "2025-05-22T10:37:11.053224Z"
    }
   },
   "outputs": [],
   "source": [
    "# Разделение temp на val и test (по 20% от общего датасета)\n",
    "val_inputs, test_inputs, val_labels, test_labels = train_test_split(\n",
    "    temp_inputs, temp_labels, test_size=0.5, random_state=42\n",
    ")"
   ]
  },
  {
   "cell_type": "code",
   "execution_count": 24,
   "metadata": {
    "execution": {
     "iopub.execute_input": "2025-05-22T10:37:11.069208Z",
     "iopub.status.busy": "2025-05-22T10:37:11.068527Z",
     "iopub.status.idle": "2025-05-22T10:37:11.083489Z",
     "shell.execute_reply": "2025-05-22T10:37:11.082602Z",
     "shell.execute_reply.started": "2025-05-22T10:37:11.069180Z"
    }
   },
   "outputs": [
    {
     "name": "stdout",
     "output_type": "stream",
     "text": [
      "\n",
      "6. Создание датасетов...\n"
     ]
    }
   ],
   "source": [
    "# Создание датасетов\n",
    "print(\"\\n6. Создание датасетов...\")\n",
    "train_dataset = NERDataset(train_inputs, train_labels)\n",
    "val_dataset = NERDataset(val_inputs, val_labels)\n",
    "test_dataset = NERDataset(test_inputs, test_labels)"
   ]
  },
  {
   "cell_type": "code",
   "execution_count": 25,
   "metadata": {
    "execution": {
     "iopub.execute_input": "2025-05-22T10:37:11.084817Z",
     "iopub.status.busy": "2025-05-22T10:37:11.084489Z",
     "iopub.status.idle": "2025-05-22T10:37:11.103227Z",
     "shell.execute_reply": "2025-05-22T10:37:11.102330Z",
     "shell.execute_reply.started": "2025-05-22T10:37:11.084794Z"
    }
   },
   "outputs": [
    {
     "name": "stdout",
     "output_type": "stream",
     "text": [
      "Длины датасетов\n",
      "Train: 85\n",
      "Val: 29\n",
      "Test: 29\n"
     ]
    }
   ],
   "source": [
    "print(\"Длины датасетов\")\n",
    "print(\"Train:\", len(train_dataset))\n",
    "print(\"Val:\", len(val_dataset))\n",
    "print(\"Test:\", len(test_dataset))"
   ]
  },
  {
   "cell_type": "code",
   "execution_count": 26,
   "metadata": {
    "execution": {
     "iopub.execute_input": "2025-05-22T10:37:11.104398Z",
     "iopub.status.busy": "2025-05-22T10:37:11.104130Z",
     "iopub.status.idle": "2025-05-22T10:37:12.494941Z",
     "shell.execute_reply": "2025-05-22T10:37:12.494263Z",
     "shell.execute_reply.started": "2025-05-22T10:37:11.104376Z"
    }
   },
   "outputs": [
    {
     "name": "stdout",
     "output_type": "stream",
     "text": [
      "\n",
      "6. Загрузка модели...\n"
     ]
    },
    {
     "name": "stderr",
     "output_type": "stream",
     "text": [
      "Some weights of BertForTokenClassification were not initialized from the model checkpoint at DeepPavlov/rubert-base-cased and are newly initialized: ['classifier.bias', 'classifier.weight']\n",
      "You should probably TRAIN this model on a down-stream task to be able to use it for predictions and inference.\n"
     ]
    }
   ],
   "source": [
    " # Загрузка модели\n",
    "print(\"\\n6. Загрузка модели...\")\n",
    "model = AutoModelForTokenClassification.from_pretrained(\n",
    "    \"DeepPavlov/rubert-base-cased\", # предобученная модель RuBERT\n",
    "    num_labels=len(bio_labels), # количество меток (включая O, B-..., I-...)\n",
    "    id2label=id2label, # словари для преобразования меток в числа и обратно\n",
    "    label2id=label2id\n",
    ")"
   ]
  },
  {
   "cell_type": "code",
   "execution_count": 27,
   "metadata": {
    "execution": {
     "iopub.execute_input": "2025-05-22T10:37:12.496083Z",
     "iopub.status.busy": "2025-05-22T10:37:12.495810Z",
     "iopub.status.idle": "2025-05-22T10:37:12.531959Z",
     "shell.execute_reply": "2025-05-22T10:37:12.531220Z",
     "shell.execute_reply.started": "2025-05-22T10:37:12.496037Z"
    }
   },
   "outputs": [
    {
     "name": "stdout",
     "output_type": "stream",
     "text": [
      "\n",
      "7. Обучение модели...\n"
     ]
    }
   ],
   "source": [
    "# Обучение модели\n",
    "print(\"\\n7. Обучение модели...\")\n",
    "training_args = TrainingArguments(\n",
    "    output_dir=\"ner_model\",\n",
    "    eval_strategy=\"epoch\", # валидацияпосле каждой эпохи\n",
    "    learning_rate=5e-5, # стандартная для BERT/RuBERT и подходит для NER\n",
    "    per_device_train_batch_size=8, # размер батча для обучения\n",
    "    per_device_eval_batch_size=8, # размер батча для валидации\n",
    "    num_train_epochs=5, # количество эпох обучения\n",
    "    weight_decay=0.01, # регуляризация для предотвращения переобучения\n",
    "    save_strategy=\"epoch\", # сохраняем модель после каждой эпохи\n",
    "    load_best_model_at_end=True, # загружаем лучшую модель в конце обучения\n",
    "    metric_for_best_model=\"f1\",  # F1-метрика для выбора лучшей модели\n",
    "    report_to=\"none\"\n",
    ")"
   ]
  },
  {
   "cell_type": "markdown",
   "metadata": {},
   "source": [
    "Объединим батчи в тензоры и сохраним соответствия между токенами и метками"
   ]
  },
  {
   "cell_type": "code",
   "execution_count": 28,
   "metadata": {
    "execution": {
     "iopub.execute_input": "2025-05-22T10:37:12.533594Z",
     "iopub.status.busy": "2025-05-22T10:37:12.532953Z",
     "iopub.status.idle": "2025-05-22T10:37:12.536826Z",
     "shell.execute_reply": "2025-05-22T10:37:12.536211Z",
     "shell.execute_reply.started": "2025-05-22T10:37:12.533574Z"
    }
   },
   "outputs": [],
   "source": [
    "data_collator = DataCollatorForTokenClassification(tokenizer)"
   ]
  },
  {
   "cell_type": "code",
   "execution_count": 29,
   "metadata": {
    "execution": {
     "iopub.execute_input": "2025-05-22T10:37:12.538165Z",
     "iopub.status.busy": "2025-05-22T10:37:12.537711Z",
     "iopub.status.idle": "2025-05-22T10:37:12.553569Z",
     "shell.execute_reply": "2025-05-22T10:37:12.552828Z",
     "shell.execute_reply.started": "2025-05-22T10:37:12.538145Z"
    }
   },
   "outputs": [],
   "source": [
    "def compute_metrics(p):\n",
    "    predictions, labels = p\n",
    "    predictions = np.argmax(predictions, axis=2) # преобразует логиты модели в метки, выбирает метку с максимальным значением для каждого токена\n",
    "\n",
    "    # преобразование ID в текстовые метки\n",
    "    true_predictions = [\n",
    "        [bio_labels[p] for (p, l) in zip(prediction, label) if l != -100] # пропускает padding-токены\n",
    "        for prediction, label in zip(predictions, labels)\n",
    "    ]\n",
    "\n",
    "    # преобразование истинных ID в метки\n",
    "    true_labels = [\n",
    "        [bio_labels[l] for (p, l) in zip(prediction, label) if l != -100]\n",
    "        for prediction, label in zip(predictions, labels)\n",
    "    ]\n",
    "\n",
    "    return {\n",
    "        \"f1\": f1_score(true_labels, true_predictions, average=\"macro\"), # метрика оценки f1_macro\n",
    "    }"
   ]
  },
  {
   "cell_type": "code",
   "execution_count": 30,
   "metadata": {
    "execution": {
     "iopub.execute_input": "2025-05-22T10:37:12.554493Z",
     "iopub.status.busy": "2025-05-22T10:37:12.554270Z",
     "iopub.status.idle": "2025-05-22T10:37:12.973579Z",
     "shell.execute_reply": "2025-05-22T10:37:12.972991Z",
     "shell.execute_reply.started": "2025-05-22T10:37:12.554468Z"
    }
   },
   "outputs": [],
   "source": [
    "trainer = Trainer(\n",
    "    model=model,\n",
    "    args=training_args,\n",
    "    train_dataset=train_dataset,\n",
    "    eval_dataset=val_dataset,\n",
    "    data_collator=data_collator,\n",
    "    tokenizer=tokenizer,\n",
    "    compute_metrics=compute_metrics,\n",
    ")"
   ]
  },
  {
   "cell_type": "code",
   "execution_count": 31,
   "metadata": {
    "execution": {
     "iopub.execute_input": "2025-05-22T10:37:12.974578Z",
     "iopub.status.busy": "2025-05-22T10:37:12.974326Z",
     "iopub.status.idle": "2025-05-22T10:37:15.346001Z",
     "shell.execute_reply": "2025-05-22T10:37:15.345352Z",
     "shell.execute_reply.started": "2025-05-22T10:37:12.974551Z"
    }
   },
   "outputs": [],
   "source": [
    "# Удалим старые чекпоинты\n",
    "if os.path.exists(\"ner_model\"):\n",
    "    shutil.rmtree(\"ner_model\")\n",
    "\n",
    "# Посмотрим, что папка существует\n",
    "os.makedirs(\"ner_model\", exist_ok=True)"
   ]
  },
  {
   "cell_type": "code",
   "execution_count": 32,
   "metadata": {
    "execution": {
     "iopub.execute_input": "2025-05-22T10:37:15.347149Z",
     "iopub.status.busy": "2025-05-22T10:37:15.346791Z",
     "iopub.status.idle": "2025-05-22T10:37:15.351395Z",
     "shell.execute_reply": "2025-05-22T10:37:15.350486Z",
     "shell.execute_reply.started": "2025-05-22T10:37:15.347119Z"
    }
   },
   "outputs": [],
   "source": [
    "# Функция очистки памяти после каждой эпохи обучения, чтобы избежать переполнения памяти в Kaggle\n",
    "def clear_memory():\n",
    "    torch.cuda.empty_cache()  # очистка кэша GPU\n",
    "    gc.collect()  # сборщик мусора Python"
   ]
  },
  {
   "cell_type": "code",
   "execution_count": 33,
   "metadata": {
    "execution": {
     "iopub.execute_input": "2025-05-22T10:37:15.352549Z",
     "iopub.status.busy": "2025-05-22T10:37:15.352339Z",
     "iopub.status.idle": "2025-05-22T10:44:23.259910Z",
     "shell.execute_reply": "2025-05-22T10:44:23.258937Z",
     "shell.execute_reply.started": "2025-05-22T10:37:15.352532Z"
    }
   },
   "outputs": [
    {
     "data": {
      "text/html": [
       "\n",
       "    <div>\n",
       "      \n",
       "      <progress value='30' max='30' style='width:300px; height:20px; vertical-align: middle;'></progress>\n",
       "      [30/30 00:37, Epoch 5/5]\n",
       "    </div>\n",
       "    <table border=\"1\" class=\"dataframe\">\n",
       "  <thead>\n",
       " <tr style=\"text-align: left;\">\n",
       "      <th>Epoch</th>\n",
       "      <th>Training Loss</th>\n",
       "      <th>Validation Loss</th>\n",
       "      <th>F1</th>\n",
       "    </tr>\n",
       "  </thead>\n",
       "  <tbody>\n",
       "    <tr>\n",
       "      <td>1</td>\n",
       "      <td>No log</td>\n",
       "      <td>1.096411</td>\n",
       "      <td>0.189288</td>\n",
       "    </tr>\n",
       "    <tr>\n",
       "      <td>2</td>\n",
       "      <td>No log</td>\n",
       "      <td>0.891733</td>\n",
       "      <td>0.207682</td>\n",
       "    </tr>\n",
       "    <tr>\n",
       "      <td>3</td>\n",
       "      <td>No log</td>\n",
       "      <td>0.888589</td>\n",
       "      <td>0.214556</td>\n",
       "    </tr>\n",
       "    <tr>\n",
       "      <td>4</td>\n",
       "      <td>No log</td>\n",
       "      <td>0.825040</td>\n",
       "      <td>0.217672</td>\n",
       "    </tr>\n",
       "    <tr>\n",
       "      <td>5</td>\n",
       "      <td>No log</td>\n",
       "      <td>0.766070</td>\n",
       "      <td>0.217471</td>\n",
       "    </tr>\n",
       "  </tbody>\n",
       "</table><p>"
      ],
      "text/plain": [
       "<IPython.core.display.HTML object>"
      ]
     },
     "metadata": {},
     "output_type": "display_data"
    },
    {
     "data": {
      "text/html": [
       "\n",
       "    <div>\n",
       "      \n",
       "      <progress value='30' max='30' style='width:300px; height:20px; vertical-align: middle;'></progress>\n",
       "      [30/30 00:57, Epoch 5/5]\n",
       "    </div>\n",
       "    <table border=\"1\" class=\"dataframe\">\n",
       "  <thead>\n",
       " <tr style=\"text-align: left;\">\n",
       "      <th>Epoch</th>\n",
       "      <th>Training Loss</th>\n",
       "      <th>Validation Loss</th>\n",
       "      <th>F1</th>\n",
       "    </tr>\n",
       "  </thead>\n",
       "  <tbody>\n",
       "    <tr>\n",
       "      <td>1</td>\n",
       "      <td>No log</td>\n",
       "      <td>0.564479</td>\n",
       "      <td>0.515661</td>\n",
       "    </tr>\n",
       "    <tr>\n",
       "      <td>2</td>\n",
       "      <td>No log</td>\n",
       "      <td>0.456149</td>\n",
       "      <td>0.614384</td>\n",
       "    </tr>\n",
       "    <tr>\n",
       "      <td>3</td>\n",
       "      <td>No log</td>\n",
       "      <td>0.448442</td>\n",
       "      <td>0.844868</td>\n",
       "    </tr>\n",
       "    <tr>\n",
       "      <td>4</td>\n",
       "      <td>No log</td>\n",
       "      <td>0.400880</td>\n",
       "      <td>0.824907</td>\n",
       "    </tr>\n",
       "    <tr>\n",
       "      <td>5</td>\n",
       "      <td>No log</td>\n",
       "      <td>0.392088</td>\n",
       "      <td>0.854838</td>\n",
       "    </tr>\n",
       "  </tbody>\n",
       "</table><p>"
      ],
      "text/plain": [
       "<IPython.core.display.HTML object>"
      ]
     },
     "metadata": {},
     "output_type": "display_data"
    },
    {
     "data": {
      "text/html": [
       "\n",
       "    <div>\n",
       "      \n",
       "      <progress value='30' max='30' style='width:300px; height:20px; vertical-align: middle;'></progress>\n",
       "      [30/30 00:57, Epoch 5/5]\n",
       "    </div>\n",
       "    <table border=\"1\" class=\"dataframe\">\n",
       "  <thead>\n",
       " <tr style=\"text-align: left;\">\n",
       "      <th>Epoch</th>\n",
       "      <th>Training Loss</th>\n",
       "      <th>Validation Loss</th>\n",
       "      <th>F1</th>\n",
       "    </tr>\n",
       "  </thead>\n",
       "  <tbody>\n",
       "    <tr>\n",
       "      <td>1</td>\n",
       "      <td>No log</td>\n",
       "      <td>0.392378</td>\n",
       "      <td>0.899501</td>\n",
       "    </tr>\n",
       "    <tr>\n",
       "      <td>2</td>\n",
       "      <td>No log</td>\n",
       "      <td>0.361209</td>\n",
       "      <td>0.944664</td>\n",
       "    </tr>\n",
       "    <tr>\n",
       "      <td>3</td>\n",
       "      <td>No log</td>\n",
       "      <td>0.360729</td>\n",
       "      <td>0.921451</td>\n",
       "    </tr>\n",
       "    <tr>\n",
       "      <td>4</td>\n",
       "      <td>No log</td>\n",
       "      <td>0.344014</td>\n",
       "      <td>0.940164</td>\n",
       "    </tr>\n",
       "    <tr>\n",
       "      <td>5</td>\n",
       "      <td>No log</td>\n",
       "      <td>0.347360</td>\n",
       "      <td>0.944453</td>\n",
       "    </tr>\n",
       "  </tbody>\n",
       "</table><p>"
      ],
      "text/plain": [
       "<IPython.core.display.HTML object>"
      ]
     },
     "metadata": {},
     "output_type": "display_data"
    },
    {
     "data": {
      "text/html": [
       "\n",
       "    <div>\n",
       "      \n",
       "      <progress value='30' max='30' style='width:300px; height:20px; vertical-align: middle;'></progress>\n",
       "      [30/30 00:47, Epoch 5/5]\n",
       "    </div>\n",
       "    <table border=\"1\" class=\"dataframe\">\n",
       "  <thead>\n",
       " <tr style=\"text-align: left;\">\n",
       "      <th>Epoch</th>\n",
       "      <th>Training Loss</th>\n",
       "      <th>Validation Loss</th>\n",
       "      <th>F1</th>\n",
       "    </tr>\n",
       "  </thead>\n",
       "  <tbody>\n",
       "    <tr>\n",
       "      <td>1</td>\n",
       "      <td>No log</td>\n",
       "      <td>0.328657</td>\n",
       "      <td>0.943161</td>\n",
       "    </tr>\n",
       "    <tr>\n",
       "      <td>2</td>\n",
       "      <td>No log</td>\n",
       "      <td>0.339639</td>\n",
       "      <td>0.948979</td>\n",
       "    </tr>\n",
       "    <tr>\n",
       "      <td>3</td>\n",
       "      <td>No log</td>\n",
       "      <td>0.355925</td>\n",
       "      <td>0.948653</td>\n",
       "    </tr>\n",
       "    <tr>\n",
       "      <td>4</td>\n",
       "      <td>No log</td>\n",
       "      <td>0.365260</td>\n",
       "      <td>0.952584</td>\n",
       "    </tr>\n",
       "    <tr>\n",
       "      <td>5</td>\n",
       "      <td>No log</td>\n",
       "      <td>0.365962</td>\n",
       "      <td>0.950111</td>\n",
       "    </tr>\n",
       "  </tbody>\n",
       "</table><p>"
      ],
      "text/plain": [
       "<IPython.core.display.HTML object>"
      ]
     },
     "metadata": {},
     "output_type": "display_data"
    },
    {
     "data": {
      "text/html": [
       "\n",
       "    <div>\n",
       "      \n",
       "      <progress value='30' max='30' style='width:300px; height:20px; vertical-align: middle;'></progress>\n",
       "      [30/30 00:57, Epoch 5/5]\n",
       "    </div>\n",
       "    <table border=\"1\" class=\"dataframe\">\n",
       "  <thead>\n",
       " <tr style=\"text-align: left;\">\n",
       "      <th>Epoch</th>\n",
       "      <th>Training Loss</th>\n",
       "      <th>Validation Loss</th>\n",
       "      <th>F1</th>\n",
       "    </tr>\n",
       "  </thead>\n",
       "  <tbody>\n",
       "    <tr>\n",
       "      <td>1</td>\n",
       "      <td>No log</td>\n",
       "      <td>0.355376</td>\n",
       "      <td>0.950306</td>\n",
       "    </tr>\n",
       "    <tr>\n",
       "      <td>2</td>\n",
       "      <td>No log</td>\n",
       "      <td>0.346977</td>\n",
       "      <td>0.951027</td>\n",
       "    </tr>\n",
       "    <tr>\n",
       "      <td>3</td>\n",
       "      <td>No log</td>\n",
       "      <td>0.349299</td>\n",
       "      <td>0.946155</td>\n",
       "    </tr>\n",
       "    <tr>\n",
       "      <td>4</td>\n",
       "      <td>No log</td>\n",
       "      <td>0.353036</td>\n",
       "      <td>0.945705</td>\n",
       "    </tr>\n",
       "    <tr>\n",
       "      <td>5</td>\n",
       "      <td>No log</td>\n",
       "      <td>0.354174</td>\n",
       "      <td>0.948221</td>\n",
       "    </tr>\n",
       "  </tbody>\n",
       "</table><p>"
      ],
      "text/plain": [
       "<IPython.core.display.HTML object>"
      ]
     },
     "metadata": {},
     "output_type": "display_data"
    },
    {
     "data": {
      "text/html": [
       "\n",
       "    <div>\n",
       "      \n",
       "      <progress value='30' max='30' style='width:300px; height:20px; vertical-align: middle;'></progress>\n",
       "      [30/30 00:56, Epoch 5/5]\n",
       "    </div>\n",
       "    <table border=\"1\" class=\"dataframe\">\n",
       "  <thead>\n",
       " <tr style=\"text-align: left;\">\n",
       "      <th>Epoch</th>\n",
       "      <th>Training Loss</th>\n",
       "      <th>Validation Loss</th>\n",
       "      <th>F1</th>\n",
       "    </tr>\n",
       "  </thead>\n",
       "  <tbody>\n",
       "    <tr>\n",
       "      <td>1</td>\n",
       "      <td>No log</td>\n",
       "      <td>0.340440</td>\n",
       "      <td>0.947144</td>\n",
       "    </tr>\n",
       "    <tr>\n",
       "      <td>2</td>\n",
       "      <td>No log</td>\n",
       "      <td>0.349897</td>\n",
       "      <td>0.948735</td>\n",
       "    </tr>\n",
       "    <tr>\n",
       "      <td>3</td>\n",
       "      <td>No log</td>\n",
       "      <td>0.360647</td>\n",
       "      <td>0.951023</td>\n",
       "    </tr>\n",
       "    <tr>\n",
       "      <td>4</td>\n",
       "      <td>No log</td>\n",
       "      <td>0.362093</td>\n",
       "      <td>0.952790</td>\n",
       "    </tr>\n",
       "    <tr>\n",
       "      <td>5</td>\n",
       "      <td>No log</td>\n",
       "      <td>0.360928</td>\n",
       "      <td>0.948849</td>\n",
       "    </tr>\n",
       "  </tbody>\n",
       "</table><p>"
      ],
      "text/plain": [
       "<IPython.core.display.HTML object>"
      ]
     },
     "metadata": {},
     "output_type": "display_data"
    },
    {
     "data": {
      "text/html": [
       "\n",
       "    <div>\n",
       "      \n",
       "      <progress value='30' max='30' style='width:300px; height:20px; vertical-align: middle;'></progress>\n",
       "      [30/30 00:50, Epoch 5/5]\n",
       "    </div>\n",
       "    <table border=\"1\" class=\"dataframe\">\n",
       "  <thead>\n",
       " <tr style=\"text-align: left;\">\n",
       "      <th>Epoch</th>\n",
       "      <th>Training Loss</th>\n",
       "      <th>Validation Loss</th>\n",
       "      <th>F1</th>\n",
       "    </tr>\n",
       "  </thead>\n",
       "  <tbody>\n",
       "    <tr>\n",
       "      <td>1</td>\n",
       "      <td>No log</td>\n",
       "      <td>0.372969</td>\n",
       "      <td>0.946127</td>\n",
       "    </tr>\n",
       "    <tr>\n",
       "      <td>2</td>\n",
       "      <td>No log</td>\n",
       "      <td>0.382457</td>\n",
       "      <td>0.953490</td>\n",
       "    </tr>\n",
       "    <tr>\n",
       "      <td>3</td>\n",
       "      <td>No log</td>\n",
       "      <td>0.386886</td>\n",
       "      <td>0.949616</td>\n",
       "    </tr>\n",
       "    <tr>\n",
       "      <td>4</td>\n",
       "      <td>No log</td>\n",
       "      <td>0.385521</td>\n",
       "      <td>0.949605</td>\n",
       "    </tr>\n",
       "    <tr>\n",
       "      <td>5</td>\n",
       "      <td>No log</td>\n",
       "      <td>0.384944</td>\n",
       "      <td>0.947998</td>\n",
       "    </tr>\n",
       "  </tbody>\n",
       "</table><p>"
      ],
      "text/plain": [
       "<IPython.core.display.HTML object>"
      ]
     },
     "metadata": {},
     "output_type": "display_data"
    },
    {
     "data": {
      "text/html": [
       "\n",
       "    <div>\n",
       "      \n",
       "      <progress value='30' max='30' style='width:300px; height:20px; vertical-align: middle;'></progress>\n",
       "      [30/30 00:55, Epoch 5/5]\n",
       "    </div>\n",
       "    <table border=\"1\" class=\"dataframe\">\n",
       "  <thead>\n",
       " <tr style=\"text-align: left;\">\n",
       "      <th>Epoch</th>\n",
       "      <th>Training Loss</th>\n",
       "      <th>Validation Loss</th>\n",
       "      <th>F1</th>\n",
       "    </tr>\n",
       "  </thead>\n",
       "  <tbody>\n",
       "    <tr>\n",
       "      <td>1</td>\n",
       "      <td>No log</td>\n",
       "      <td>0.372795</td>\n",
       "      <td>0.952840</td>\n",
       "    </tr>\n",
       "    <tr>\n",
       "      <td>2</td>\n",
       "      <td>No log</td>\n",
       "      <td>0.374604</td>\n",
       "      <td>0.954022</td>\n",
       "    </tr>\n",
       "    <tr>\n",
       "      <td>3</td>\n",
       "      <td>No log</td>\n",
       "      <td>0.371607</td>\n",
       "      <td>0.954022</td>\n",
       "    </tr>\n",
       "    <tr>\n",
       "      <td>4</td>\n",
       "      <td>No log</td>\n",
       "      <td>0.367970</td>\n",
       "      <td>0.953301</td>\n",
       "    </tr>\n",
       "    <tr>\n",
       "      <td>5</td>\n",
       "      <td>No log</td>\n",
       "      <td>0.367862</td>\n",
       "      <td>0.953301</td>\n",
       "    </tr>\n",
       "  </tbody>\n",
       "</table><p>"
      ],
      "text/plain": [
       "<IPython.core.display.HTML object>"
      ]
     },
     "metadata": {},
     "output_type": "display_data"
    }
   ],
   "source": [
    "# Цикл обучения с очисткой памяти\n",
    "for epoch in range(8):\n",
    "    trainer.train()"
   ]
  },
  {
   "cell_type": "code",
   "execution_count": 34,
   "metadata": {
    "execution": {
     "iopub.execute_input": "2025-05-22T10:44:23.264917Z",
     "iopub.status.busy": "2025-05-22T10:44:23.264440Z",
     "iopub.status.idle": "2025-05-22T10:44:23.591104Z",
     "shell.execute_reply": "2025-05-22T10:44:23.590401Z",
     "shell.execute_reply.started": "2025-05-22T10:44:23.264895Z"
    }
   },
   "outputs": [
    {
     "name": "stdout",
     "output_type": "stream",
     "text": [
      "\n",
      "8. Оценка модели...\n"
     ]
    },
    {
     "data": {
      "text/html": [],
      "text/plain": [
       "<IPython.core.display.HTML object>"
      ]
     },
     "metadata": {},
     "output_type": "display_data"
    }
   ],
   "source": [
    "# Оценка модели\n",
    "print(\"\\n8. Оценка модели...\")\n",
    "predictions = trainer.predict(test_dataset)\n",
    "preds = np.argmax(predictions.predictions, axis=2)"
   ]
  },
  {
   "cell_type": "code",
   "execution_count": 35,
   "metadata": {
    "execution": {
     "iopub.execute_input": "2025-05-22T10:44:23.592148Z",
     "iopub.status.busy": "2025-05-22T10:44:23.591880Z",
     "iopub.status.idle": "2025-05-22T10:44:26.299814Z",
     "shell.execute_reply": "2025-05-22T10:44:26.299026Z",
     "shell.execute_reply.started": "2025-05-22T10:44:23.592127Z"
    }
   },
   "outputs": [],
   "source": [
    "# Преобразуем предсказания в читаемый формат\n",
    "true_predictions = [\n",
    "    [id2label[p] for p, l in zip(prediction, label) if l != -100]\n",
    "    for prediction, label in zip(preds, predictions.label_ids)\n",
    "]\n",
    "    \n",
    "true_labels = [\n",
    "    [id2label[l] for p, l in zip(prediction, label) if l != -100]\n",
    "    for prediction, label in zip(preds, predictions.label_ids)\n",
    "]"
   ]
  },
  {
   "cell_type": "code",
   "execution_count": 36,
   "metadata": {
    "execution": {
     "iopub.execute_input": "2025-05-22T10:44:26.300867Z",
     "iopub.status.busy": "2025-05-22T10:44:26.300594Z",
     "iopub.status.idle": "2025-05-22T10:44:28.014319Z",
     "shell.execute_reply": "2025-05-22T10:44:28.013396Z",
     "shell.execute_reply.started": "2025-05-22T10:44:26.300841Z"
    }
   },
   "outputs": [],
   "source": [
    "# Преобразование в читаемый формат\n",
    "true_labels_flat = [item for sublist in true_labels for item in sublist]\n",
    "preds_flat = [item for sublist in true_predictions for item in sublist]\n"
   ]
  },
  {
   "cell_type": "code",
   "execution_count": 37,
   "metadata": {
    "execution": {
     "iopub.execute_input": "2025-05-22T10:44:28.015467Z",
     "iopub.status.busy": "2025-05-22T10:44:28.015202Z",
     "iopub.status.idle": "2025-05-22T10:44:28.408950Z",
     "shell.execute_reply": "2025-05-22T10:44:28.408111Z",
     "shell.execute_reply.started": "2025-05-22T10:44:28.015439Z"
    }
   },
   "outputs": [
    {
     "data": {
      "image/png": "[encoded data removed]",
      "text/plain": [
       "<Figure size 800x500 with 2 Axes>"
      ]
     },
     "metadata": {},
     "output_type": "display_data"
    }
   ],
   "source": [
    "# Построение матрицы ошибок\n",
    "cm = confusion_matrix(true_labels_flat, preds_flat, labels=bio_labels)\n",
    "plt.figure(figsize=(8, 5))\n",
    "sns.heatmap(cm, annot=True, fmt=\"d\", xticklabels=bio_labels, yticklabels=bio_labels)\n",
    "plt.title(\"Матрица ошибок\")\n",
    "plt.xlabel(\"Предсказания\")\n",
    "plt.ylabel(\"Истинные метки\")\n",
    "plt.show()"
   ]
  },
  {
   "cell_type": "code",
   "execution_count": 38,
   "metadata": {
    "execution": {
     "iopub.execute_input": "2025-05-22T10:44:28.410277Z",
     "iopub.status.busy": "2025-05-22T10:44:28.409947Z",
     "iopub.status.idle": "2025-05-22T10:44:28.467870Z",
     "shell.execute_reply": "2025-05-22T10:44:28.467228Z",
     "shell.execute_reply.started": "2025-05-22T10:44:28.410249Z"
    }
   },
   "outputs": [
    {
     "name": "stdout",
     "output_type": "stream",
     "text": [
      "\n",
      "Classification Report:\n",
      "              precision    recall  f1-score   support\n",
      "\n",
      "    allergen       0.89      0.89      0.89         9\n",
      "  medication       0.98      0.98      0.98       135\n",
      "      region       1.00      0.92      0.96      1471\n",
      "     symptom       0.94      0.96      0.95       482\n",
      "\n",
      "   micro avg       0.98      0.94      0.96      2097\n",
      "   macro avg       0.95      0.94      0.94      2097\n",
      "weighted avg       0.98      0.94      0.96      2097\n",
      "\n"
     ]
    }
   ],
   "source": [
    "# Вывод отчета\n",
    "print(\"\\nClassification Report:\")\n",
    "print(classification_report(true_labels, true_predictions))"
   ]
  },
  {
   "cell_type": "markdown",
   "metadata": {},
   "source": [
    "**Модель DeepPavlov/rubert-base-cased — это предобученная версия BERT на русском языке , которая подходит для задач NER. Модель учитывает дисбаланс классов и показывает хорошие результаты, стабильно находит симптомы и лекарства, все регионы находятся , даже редкие. F1-score выше 0.95 → Модель хорошо сбалансирована между точностью и полнотой.**"
   ]
  }
 ],
 "metadata": {
  "kaggle": {
   "accelerator": "nvidiaTeslaT4",
   "dataSources": [
    {
     "datasetId": 7198860,
     "sourceId": 11826342,
     "sourceType": "datasetVersion"
    }
   ],
   "dockerImageVersionId": 31012,
   "isGpuEnabled": true,
   "isInternetEnabled": true,
   "language": "python",
   "sourceType": "notebook"
  },
  "kernelspec": {
   "display_name": "Python 3 (ipykernel)",
   "language": "python",
   "name": "python3"
  },
  "language_info": {
   "codemirror_mode": {
    "name": "ipython",
    "version": 3
   },
   "file_extension": ".py",
   "mimetype": "text/x-python",
   "name": "python",
   "nbconvert_exporter": "python",
   "pygments_lexer": "ipython3",
   "version": "3.12.4"
  }
 },
 "nbformat": 4,
 "nbformat_minor": 4
}
